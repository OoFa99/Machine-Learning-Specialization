{
 "cells": [
  {
   "attachments": {},
   "cell_type": "markdown",
   "metadata": {},
   "source": [
    "# Optional Lab - Derivatives\n",
    "This lab will give you a more intuitive understanding of derivatives. It will show you a simple way of calculating derivatives arithmetically. It will also introduce you to a handy Python library that allows you to calculate derivatives symbolically."
   ]
  },
  {
   "cell_type": "code",
   "execution_count": 1,
   "metadata": {},
   "outputs": [],
   "source": [
    "from sympy import symbols, diff"
   ]
  },
  {
   "attachments": {},
   "cell_type": "markdown",
   "metadata": {},
   "source": [
    "## Informal definition of derivatives\n",
    "The formal definition of derivatives can be a bit daunting with limits and values 'going to zero'. The idea is really much simpler. \n",
    "\n",
    "The derivative of a function describes how the output of a function changes when there is a small change in an input variable.\n",
    "\n",
    "Let's use the cost function $J(w)$ as an example. The cost $J$ is the output and $w$ is the input variable.  \n",
    "Let's give a 'small change' a name *epsilon* or $\\epsilon$. We use these Greek letters because it is traditional in mathematics to use *epsilon*($\\epsilon$) or *delta* ($\\Delta$) to represent a small value. You can think of it as representing 0.001 or some other small value.  \n",
    "\n",
    "$$\n",
    "\\begin{equation}\n",
    "\\text{if } w \\uparrow \\epsilon \\text{ causes }J(w) \\uparrow \\text{by }k \\times \\epsilon \\text{ then}  \\\\\n",
    "\\frac{\\partial J(w)}{\\partial w} = k \\tag{1}\n",
    "\\end{equation}\n",
    "$$\n",
    "\n",
    "This just says if you change the input to the function $J(w)$ by a little bit and the output changes by $k$ times that little bit, then the derivative of $J(w)$ is equal to $k$.\n",
    "\n",
    "Let's try this out.  Let's look at the derivative of the function $J(w) = w^2$ at the point $w=3$ and $\\epsilon = 0.001$"
   ]
  },
  {
   "cell_type": "code",
   "execution_count": 2,
   "metadata": {},
   "outputs": [
    {
     "name": "stdout",
     "output_type": "stream",
     "text": [
      "J = 9, J_epsilon = 9.006001, dJ_dw ~= k = 6.001000\n"
     ]
    }
   ],
   "source": [
    "J = (3)**2\n",
    "J_epsilon = (3 + 0.001)**2\n",
    "k = (J_epsilon - J) / 0.001     # Difference divided by epsilon\n",
    "\n",
    "print(f\"J = {J}, J_epsilon = {J_epsilon}, dJ_dw ~= k = {k:0.6f}\")"
   ]
  },
  {
   "attachments": {},
   "cell_type": "markdown",
   "metadata": {},
   "source": [
    "We have increased the input value a little bit (0.001), causing the output to change from 9 to 9.006001, an increase of 6 times the input increase. Referencing (1) above, this says that $k=6$, so $\\frac{\\partial J(w)}{\\partial w} \\approx 6$. If you are familiar with calculus, you know, written symbolically,  $\\frac{\\partial J(w)}{\\partial w} = 2 w$. With $w=3$ this is 6. Our calculation above is not exactly 6 because to be exactly correct $\\epsilon$ would need to be [infinitesimally small](https://www.dictionary.com/browse/infinitesimally) or really, really small. That is why we use the symbols $\\approx$ or ~= rather than =. Let's see what happens if we make $\\epsilon$ smaller."
   ]
  },
  {
   "cell_type": "code",
   "execution_count": 3,
   "metadata": {},
   "outputs": [
    {
     "name": "stdout",
     "output_type": "stream",
     "text": [
      "J = 9, J_epsilon = 9.000000006, dJ_dw ~= k = 6.000000496442226\n"
     ]
    }
   ],
   "source": [
    "J = (3)**2\n",
    "J_epsilon = (3 + 0.000000001)**2\n",
    "k = (J_epsilon - J) / 0.000000001\n",
    "\n",
    "print(f\"J = {J}, J_epsilon = {J_epsilon}, dJ_dw ~= k = {k}\")"
   ]
  },
  {
   "attachments": {},
   "cell_type": "markdown",
   "metadata": {},
   "source": [
    "The value gets close to exactly 6 as we reduce the size of $\\epsilon$. Feel free to try reducing the value further."
   ]
  }
 ],
 "metadata": {
  "kernelspec": {
   "display_name": "Python 3",
   "language": "python",
   "name": "python3"
  },
  "language_info": {
   "codemirror_mode": {
    "name": "ipython",
    "version": 3
   },
   "file_extension": ".py",
   "mimetype": "text/x-python",
   "name": "python",
   "nbconvert_exporter": "python",
   "pygments_lexer": "ipython3",
   "version": "3.11.2"
  },
  "orig_nbformat": 4
 },
 "nbformat": 4,
 "nbformat_minor": 2
}
